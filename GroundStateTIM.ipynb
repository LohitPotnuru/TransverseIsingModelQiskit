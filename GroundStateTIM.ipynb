{
 "cells": [
  {
   "cell_type": "code",
   "execution_count": 12,
   "metadata": {},
   "outputs": [],
   "source": [
    "from qiskit import *\n",
    "from scipy.optimize import minimize\n",
    "import numpy as np\n",
    "from pylab import *"
   ]
  },
  {
   "cell_type": "code",
   "execution_count": 3,
   "metadata": {},
   "outputs": [],
   "source": [
    "#2^4 possible states of four qubits stored in dic\n",
    "bit = ['0','1']\n",
    "dic = []\n",
    "for i in bit:\n",
    "    for j in bit:\n",
    "        for k in bit:\n",
    "            for l in bit:\n",
    "                dic.append(i+j+l+k)\n"
   ]
  },
  {
   "cell_type": "code",
   "execution_count": 18,
   "metadata": {},
   "outputs": [],
   "source": [
    "def calcEJ(theta):\n",
    "    #make quantum circuit with 2 qubits\n",
    "    q = QuantumRegister(4)\n",
    "    c = ClassicalRegister(4)\n",
    "    circuit = QuantumCircuit(q,c)\n",
    "\n",
    "    # entangled quantum state preparation\n",
    "    q = circuit.qregs[0]\n",
    "    circuit.u(theta[0], theta[1], 0, q[0])\n",
    "    circuit.cx(q[0],q[1])\n",
    "    circuit.cx(q[0],q[2])\n",
    "    circuit.cx(q[0],q[3])\n",
    "    for i in range(0,4):\n",
    "        circuit.u(theta[i+2],0,0,q[i])\n",
    "    circuit.measure(range(4),range(4))\n",
    "\n",
    "    # Executing the circuit by qasm_simulation to caculate energy from result.get(counts)    \n",
    "    shots=18192\n",
    "    backend = BasicAer.get_backend('qasm_simulator')\n",
    "    result = execute(circuit, backend, shots = shots).result()\n",
    "    counts = result.get_counts()\n",
    "\n",
    "    #make sure that all possible values accounted for to avoid errors\n",
    "    for i in dic:\n",
    "        if i not in counts:\n",
    "            counts[i] = 0\n",
    "    \n",
    "    #calculate expectation value in terms of sigma z of qubit i and qubit i+1\n",
    "    def prob(i):\n",
    "        t1=0\n",
    "        t2=0\n",
    "        for j in counts.keys():\n",
    "            if j[i]=='0': t1+=counts[j]\n",
    "            else: t1-=counts[j]\n",
    "        t1=t1/shots\n",
    "\n",
    "        for j in counts.keys():\n",
    "            if j[i+1]=='0': t2+=counts[j]\n",
    "            else: t2-=counts[j]\n",
    "        t2=t2/shots\n",
    "        E=-1*t1*t2\n",
    "        return E\n",
    "    E_J=0\n",
    "    for i in range(0,3): E_J+=prob(i)\n",
    "    return E_J"
   ]
  },
  {
   "cell_type": "code",
   "execution_count": 19,
   "metadata": {},
   "outputs": [],
   "source": [
    "def calcEZ(theta):\n",
    "    #make quantum circuit with 2 qubits\n",
    "    q = QuantumRegister(4)\n",
    "    c = ClassicalRegister(4)\n",
    "    circuit = QuantumCircuit(q,c)\n",
    "\n",
    "    # entangled quantum state preparation\n",
    "    q = circuit.qregs[0]\n",
    "    circuit.u(theta[0], theta[1], 0, q[0])\n",
    "    circuit.cx(q[0],q[1])\n",
    "    circuit.cx(q[0],q[2])\n",
    "    circuit.cx(q[0],q[3])\n",
    "    for i in range(0,4):\n",
    "        circuit.u(theta[i+2],0,0,q[i])\n",
    "    circuit.h(range(4))\n",
    "    circuit.measure(range(4),range(4))\n",
    "\n",
    "    # Executing the circuit by qasm_simulation to caculate energy from result.get(counts)    \n",
    "    shots=18192\n",
    "    backend = BasicAer.get_backend('qasm_simulator')\n",
    "    result = execute(circuit, backend, shots = shots).result()\n",
    "    counts = result.get_counts()\n",
    "\n",
    "    #make sure that all possible values accounted for to avoid errors\n",
    "    for i in dic:\n",
    "        if i not in counts:\n",
    "            counts[i] = 0\n",
    "    \n",
    "    #calculate expectation value in terms of sigma x of qubit i \n",
    "    def prob(i):\n",
    "        E=0\n",
    "        for j in counts.keys():\n",
    "            if j[i]=='0': E+=counts[j]\n",
    "            else: E-=counts[j]\n",
    "        E=E/shots\n",
    "        return E\n",
    "    E_Z=0\n",
    "    for i in range(0,3): E_Z+=prob(i)\n",
    "    return E_Z"
   ]
  },
  {
   "cell_type": "code",
   "execution_count": 20,
   "metadata": {},
   "outputs": [],
   "source": [
    "# expectation value total \n",
    "def calcE(theta):\n",
    "    # Summing the measurement results\n",
    "    classical_adder = calcEJ(theta) + h * calcEZ(theta)\n",
    "    return classical_adder"
   ]
  },
  {
   "cell_type": "code",
   "execution_count": 21,
   "metadata": {},
   "outputs": [
    {
     "data": {
      "text/plain": [
       "0.007408322755264088"
      ]
     },
     "execution_count": 21,
     "metadata": {},
     "output_type": "execute_result"
    }
   ],
   "source": [
    "h=2\n",
    "calcE(theta=[1.5708,0,1.10715,0,2.03444,0])"
   ]
  },
  {
   "cell_type": "code",
   "execution_count": 54,
   "metadata": {},
   "outputs": [
    {
     "name": "stdout",
     "output_type": "stream",
     "text": [
      "[2.5961714737899807e-05, 0.00023117770846918512, -3.03226950976934, -3.08537829215815, -3.1282611587994453, -3.163805306187726, -3.304064337867013, -3.4528248086084985, -3.526828618453877, -3.7380168508449696, -3.925078709440743, -4.11347018492863, -4.259443798544055, -4.480238602662192, -4.7331274888437145, -4.851093684370525, -5.234256057153289, -5.39478828004075, -5.649619979961618, -5.854646847193892, -6.147648538234596, -6.43843264438581, -6.793989645481907, -6.982278011384864, -7.301223536455469, -7.65489531337385, -7.886088417574989, -8.198392341361837, -8.498415266957979, -8.77787458790008, -9.103520826709953]\n"
     ]
    }
   ],
   "source": [
    "theta0=[1.5708,0,1.10715,0,2.03444,0]\n",
    "tol = 1e-3 # tolerance for optimization precision.\n",
    "# Get expectation energy by optimization with corresponding h = 0.1, 0.2,..., 2.9, 3. \n",
    "y_vqe = []\n",
    "for k in range(0,31):\n",
    "    h=k/10\n",
    "    vqe_result = minimize(calcE, theta0 , method=\"COBYLA\", tol=tol)\n",
    "    y_vqe.append(vqe_result.fun)\n",
    "print(y_vqe)"
   ]
  },
  {
   "cell_type": "code",
   "execution_count": 56,
   "metadata": {},
   "outputs": [
    {
     "data": {
      "text/plain": [
       "Text(0, 0.5, 'E/N with N = 4')"
      ]
     },
     "execution_count": 56,
     "metadata": {},
     "output_type": "execute_result"
    },
    {
     "data": {
      "image/png": "[encoded data removed]",
      "text/plain": [
       "<Figure size 432x288 with 1 Axes>"
      ]
     },
     "metadata": {
      "needs_background": "light"
     },
     "output_type": "display_data"
    }
   ],
   "source": [
    "y_mean = np.array(y_vqe)/4\n",
    "\n",
    "x2 = []\n",
    "for k in range(0,31):\n",
    "    x2.append(k/10)\n",
    "\n",
    "plot(x2,y_mean,'bs', label='VQE')\n",
    "\n",
    "plt.xlabel('h')\n",
    "plt.ylabel('E/N with N = 4')"
   ]
  },
  {
   "cell_type": "code",
   "execution_count": null,
   "metadata": {},
   "outputs": [],
   "source": []
  }
 ],
 "metadata": {
  "kernelspec": {
   "display_name": "Python (quantumEnv)",
   "language": "python",
   "name": "quantumenv"
  },
  "language_info": {
   "codemirror_mode": {
    "name": "ipython",
    "version": 3
   },
   "file_extension": ".py",
   "mimetype": "text/x-python",
   "name": "python",
   "nbconvert_exporter": "python",
   "pygments_lexer": "ipython3",
   "version": "3.9.2"
  }
 },
 "nbformat": 4,
 "nbformat_minor": 4
}
